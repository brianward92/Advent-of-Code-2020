{
 "cells": [
  {
   "cell_type": "code",
   "execution_count": 24,
   "metadata": {},
   "outputs": [],
   "source": [
    "from split import partition\n",
    "\n",
    "def check_row_rule(row_rule):\n",
    "    res = map(lambda x: x[2:],\n",
    "              row_rule.strip().split(\n",
    "                  ' contain ')[1].replace('bags','bag').replace('.','').split(', '))\n",
    "    return res\n",
    "\n",
    "ll = open('./input7.txt').readlines()"
   ]
  },
  {
   "cell_type": "code",
   "execution_count": 25,
   "metadata": {},
   "outputs": [
    {
     "name": "stderr",
     "output_type": "stream",
     "text": [
      "/Users/bward92/miniconda3/envs/ast/lib/python3.6/site-packages/ipykernel_launcher.py:3: DeprecationWarning: generator 'partition.<locals>.condition_holds' raised StopIteration\n",
      "  This is separate from the ipykernel package so we can avoid doing imports until\n",
      "/Users/bward92/miniconda3/envs/ast/lib/python3.6/site-packages/ipykernel_launcher.py:4: DeprecationWarning: generator 'partition.<locals>.condition_doesnt_hold' raised StopIteration\n",
      "  after removing the cwd from sys.path.\n"
     ]
    }
   ],
   "source": [
    "shiny_rule, not_shiny_rule = partition(lambda x: x.startswith('shiny gold'), ll)\n",
    "\n",
    "shiny_rule = list(shiny_rule)[0]\n",
    "not_shiny_rule = list(not_shiny_rule)\n",
    "\n",
    "initial_containment = shiny_rule.split(\n",
    "    ' contain ')[1].strip().replace('.','').replace('bags','bag').split(', ')"
   ]
  },
  {
   "cell_type": "code",
   "execution_count": 26,
   "metadata": {},
   "outputs": [],
   "source": [
    "num_bags = sum(map(lambda x: int(x.split(' ')[0]), initial_containment))"
   ]
  },
  {
   "cell_type": "code",
   "execution_count": 27,
   "metadata": {},
   "outputs": [
    {
     "data": {
      "text/plain": [
       "{'dull lime bag', 'muted black bag', 'pale coral bag', 'wavy silver bag'}"
      ]
     },
     "execution_count": 27,
     "metadata": {},
     "output_type": "execute_result"
    }
   ],
   "source": [
    "bag_set = set(map(lambda x: x[2:], initial_containment))\n",
    "bag_set"
   ]
  },
  {
   "cell_type": "code",
   "execution_count": null,
   "metadata": {},
   "outputs": [],
   "source": [
    "not_shiny_rule = list(filter(lambda x:\n",
    "                             any([elt in bag_set for elt in check_row_rule(x)]),\n",
    "                             not_shiny_rule))\n",
    "\n",
    "# initial_containment = shiny_rule.split(\n",
    "#     ' contain ')[1].strip().replace('.','').replace('bags','bag').split(', ')\n"
   ]
  },
  {
   "cell_type": "code",
   "execution_count": null,
   "metadata": {},
   "outputs": [],
   "source": [
    "from split import partition\n",
    "\n",
    "def check_row_rule(row_rule):\n",
    "    res = map(lambda x: x[2:],\n",
    "              row_rule.strip().split(\n",
    "                  ' contain ')[1].replace('bags','bag').replace('.','').split(', '))\n",
    "    return res\n",
    "\n",
    "if __name__ == '__main__':\n",
    "\n",
    "    ll = open('./input7.txt').readlines()\n",
    "\n",
    "    contain_gold, may_contain_gold = partition(\n",
    "        lambda x: 'shiny gold' in x.strip().split(' contain ')[1], ll)\n",
    "\n",
    "    contain_gold = list(contain_gold)\n",
    "    may_contain_gold = list(may_contain_gold)\n",
    "\n",
    "    ct = len(contain_gold)\n",
    "    bag_set = set(map(lambda x: x.split(' contain ')[0].replace('bags','bag'), contain_gold))\n",
    "    \n",
    "    while contain_gold:\n",
    "        contain_gold, may_contain_gold = partition(\n",
    "            lambda x: any([elt in bag_set for elt in check_row_rule(x)]), may_contain_gold)\n",
    "\n",
    "        contain_gold = list(contain_gold)\n",
    "        may_contain_gold = list(may_contain_gold)\n",
    "\n",
    "        ct+= len(contain_gold)\n",
    "        bag_set = set(map(lambda x: x.split(' contain ')[0].replace('bags','bag'), contain_gold))\n",
    "\n",
    "    print(ct)"
   ]
  }
 ],
 "metadata": {
  "kernelspec": {
   "display_name": "Python 3",
   "language": "python",
   "name": "python3"
  },
  "language_info": {
   "codemirror_mode": {
    "name": "ipython",
    "version": 3
   },
   "file_extension": ".py",
   "mimetype": "text/x-python",
   "name": "python",
   "nbconvert_exporter": "python",
   "pygments_lexer": "ipython3",
   "version": "3.6.10"
  }
 },
 "nbformat": 4,
 "nbformat_minor": 4
}
